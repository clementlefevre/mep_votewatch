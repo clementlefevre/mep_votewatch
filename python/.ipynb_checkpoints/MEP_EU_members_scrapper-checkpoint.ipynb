{
 "cells": [
  {
   "cell_type": "code",
   "execution_count": null,
   "metadata": {},
   "outputs": [],
   "source": [
    "import requests\n",
    "import pandas as pd\n",
    "import time\n",
    "import json\n",
    "from collections import namedtuple\n",
    "from bs4 import BeautifulSoup\n",
    "import lxml.html\n",
    "import glob"
   ]
  },
  {
   "cell_type": "markdown",
   "metadata": {},
   "source": [
    "## Scrap members"
   ]
  },
  {
   "cell_type": "code",
   "execution_count": null,
   "metadata": {},
   "outputs": [],
   "source": [
    "MEP_Member = namedtuple('MEP_member', ['name', 'group', 'link','country','party','status'])"
   ]
  },
  {
   "cell_type": "code",
   "execution_count": null,
   "metadata": {},
   "outputs": [],
   "source": [
    "def scrap_data_MEP_members(html_string):\n",
    "    soup = BeautifulSoup(html_string, 'lxml') # Parse the HTML as a string\n",
    "    \n",
    "    table = soup.find_all('table')[0] # Grab the first table\n",
    "\n",
    "    rows = table.find_all('tr')\n",
    "    rows = [r for r in rows if len(r)>0]\n",
    "    rows = rows[1:]\n",
    "    \n",
    "    all_members = []\n",
    "    for r in rows:\n",
    "        try:\n",
    "        \n",
    "\n",
    "            link =r.find('a')['href']\n",
    "            name = r.find_all(\"td\")[0].text.strip()\n",
    "            group = r.find_all(\"td\")[1].text.strip()\n",
    "            country = r.find_all(\"td\")[2].text.strip()\n",
    "            party = r.find_all(\"td\")[3].text.strip()\n",
    "            status = r.find_all(\"td\")[4].text.strip()\n",
    "\n",
    "            all_members.append(MEP_Member(name,group,link,country,party,status))\n",
    "        except:\n",
    "            print(r)\n",
    "\n",
    "    return all_members\n"
   ]
  },
  {
   "cell_type": "code",
   "execution_count": null,
   "metadata": {},
   "outputs": [],
   "source": [
    "result = requests.get(\"https://www.votewatch.eu//en/term8-european-parliament-members.html?limit=1000\")\n",
    "s =scrap_data_MEP_members(result.text)\n",
    "df = pd.DataFrame(s)\n",
    "df['id']=df.index+1\n",
    "df[df.id==386]\n",
    "df.to_csv('MEP_lists.csv',encoding='utf-8')"
   ]
  },
  {
   "cell_type": "markdown",
   "metadata": {},
   "source": [
    "## Scrap votes"
   ]
  },
  {
   "cell_type": "code",
   "execution_count": null,
   "metadata": {},
   "outputs": [],
   "source": [
    "def scrap_votes(member_id):\n",
    "    url_votes = f\"https://www.votewatch.eu/actions.php?euro_parlamentar_id={str(member_id)}&form_category=get_mep_acte&sEcho=3&iColumns=6&sColumns=&iDisplayStart=0&iDisplayLength=20000\"\n",
    "    result = requests.get(url_votes).json()\n",
    "    df_votes = pd.DataFrame(result['all_votes'])\n",
    "    df_votes['loyalty']=df_votes.euro_vot_rol_euro_grup.apply(pd.Series)['rol_af']\n",
    "    df_votes['member_id']=member_id\n",
    "    return df_votes"
   ]
  },
  {
   "cell_type": "code",
   "execution_count": null,
   "metadata": {},
   "outputs": [],
   "source": [
    "all_votes = pd.DataFrame()\n",
    "\n",
    "for member in df.id.tolist()[180:]:\n",
    "    print(str(member))\n",
    "    \n",
    "    try:\n",
    "        df_votes = scrap_votes(member)\n",
    "        all_votes = pd.concat([all_votes,df_votes],axis=0)\n",
    "    except:\n",
    "        print(f'could not scrap votes for member {str(member)}')\n",
    "    if member % 10 ==0:\n",
    "        print(f'save point on {str(member)}')\n",
    "        all_votes.to_csv(f'MEP_votes_{str(member)}.csv')\n",
    "        all_votes = pd.DataFrame()  \n",
    "        \n",
    "all_votes.to_csv(f'MEP_votes_last.csv')"
   ]
  },
  {
   "cell_type": "code",
   "execution_count": null,
   "metadata": {},
   "outputs": [],
   "source": [
    "all_votes.to_csv(f'MEP_votes_last.csv')\n"
   ]
  },
  {
   "cell_type": "markdown",
   "metadata": {},
   "source": [
    "## read all votes files"
   ]
  },
  {
   "cell_type": "code",
   "execution_count": null,
   "metadata": {},
   "outputs": [],
   "source": [
    "all_votes_files =  [f for f in glob.glob('MEP_votewatch/votes/*.csv', recursive=True)]"
   ]
  },
  {
   "cell_type": "markdown",
   "metadata": {},
   "source": [
    "## Create votes domains table"
   ]
  },
  {
   "cell_type": "code",
   "execution_count": null,
   "metadata": {},
   "outputs": [],
   "source": [
    "df = pd.read_csv(all_votes_files[2])"
   ]
  },
  {
   "cell_type": "code",
   "execution_count": null,
   "metadata": {},
   "outputs": [],
   "source": [
    "df_domains = df[['euro_domeniu_id','euro_domeniu_nume']].drop_duplicates().sort_values('euro_domeniu_id').set_index('euro_domeniu_id')"
   ]
  },
  {
   "cell_type": "code",
   "execution_count": null,
   "metadata": {},
   "outputs": [],
   "source": [
    "df_domains.to_csv('MEP_votes_domains.csv')"
   ]
  },
  {
   "cell_type": "markdown",
   "metadata": {},
   "source": [
    "## Create actes tables"
   ]
  },
  {
   "cell_type": "code",
   "execution_count": null,
   "metadata": {},
   "outputs": [],
   "source": [
    "df_actes = df[['act_nume_full','euro_act_id']].drop_duplicates()\n",
    "df_actes['acte_title'] = df_actes.act_nume_full.str.extract('<a[^>]*>(.*?)</a>')\n",
    "df_actes['acte_title'] = df_actes['acte_title'].str.replace('<b>','').str.replace('<[^<]+?>', '')\n",
    "df_actes['link']= df_actes.act_nume_full.str.extract('href=[\\'\"]?([^\\'\" >]+)')\n",
    "df_actes.to_csv('MEP_votes_actes.csv')"
   ]
  },
  {
   "cell_type": "markdown",
   "metadata": {},
   "source": [
    "## Filter votes on id"
   ]
  },
  {
   "cell_type": "code",
   "execution_count": null,
   "metadata": {},
   "outputs": [],
   "source": [
    "def filter_votes_data(file):\n",
    "    df = pd.read_csv(file)\n",
    "    df_votes = df[['euro_act_id','euro_domeniu_id','euro_vot_valoare_text','mysql_data_text','loyalty','member_id']]\n",
    "    return df_votes\n",
    "    "
   ]
  },
  {
   "cell_type": "code",
   "execution_count": null,
   "metadata": {},
   "outputs": [],
   "source": [
    "df_all_votes_light = pd.DataFrame()\n",
    "\n",
    "for f in all_votes_files:\n",
    "    df_light_votes = filter_votes_data(f)\n",
    "    df_all_votes_light = pd.concat([df_all_votes_light,df_light_votes],axis=0)\n",
    "    \n",
    "    "
   ]
  },
  {
   "cell_type": "code",
   "execution_count": null,
   "metadata": {},
   "outputs": [],
   "source": [
    "df_all_votes_light.to_csv('all_votes.csv')"
   ]
  },
  {
   "cell_type": "markdown",
   "metadata": {},
   "source": [
    "## Votes definition"
   ]
  },
  {
   "cell_type": "code",
   "execution_count": null,
   "metadata": {},
   "outputs": [],
   "source": [
    "votes_definitions = {'M':'Documented Absence','N':'Did not vote',\"-\":\"Against\",\"+\":\"In favour\",\"A\":\"Absent\",\"0\":\"Abstained\"}"
   ]
  },
  {
   "cell_type": "code",
   "execution_count": null,
   "metadata": {},
   "outputs": [],
   "source": [
    "df_votes_definitions = pd.DataFrame.from_dict(votes_definitions,orient='index').reset_index()\n",
    "df_votes_definitions.columns = ['vote_id','vote_name']\n",
    "df_votes_definitions.to_csv('MEP_votes_definitions.csv', index=False)"
   ]
  },
  {
   "cell_type": "code",
   "execution_count": null,
   "metadata": {},
   "outputs": [],
   "source": []
  }
 ],
 "metadata": {
  "kernelspec": {
   "display_name": "Python 3",
   "language": "python",
   "name": "python3"
  },
  "language_info": {
   "codemirror_mode": {
    "name": "ipython",
    "version": 3
   },
   "file_extension": ".py",
   "mimetype": "text/x-python",
   "name": "python",
   "nbconvert_exporter": "python",
   "pygments_lexer": "ipython3",
   "version": "3.7.1"
  }
 },
 "nbformat": 4,
 "nbformat_minor": 2
}
